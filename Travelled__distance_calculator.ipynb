{
  "nbformat": 4,
  "nbformat_minor": 0,
  "metadata": {
    "colab": {
      "name": "Travelled_ distance_calculator.ipynb",
      "provenance": [],
      "collapsed_sections": [],
      "toc_visible": true
    },
    "kernelspec": {
      "name": "python3",
      "display_name": "Python 3"
    },
    "language_info": {
      "name": "python"
    }
  },
  "cells": [
    {
      "cell_type": "code",
      "metadata": {
        "id": "_CRv8ND4iuGt"
      },
      "source": [
        "import numpy as np\n",
        "import pandas as pd"
      ],
      "execution_count": 1,
      "outputs": []
    },
    {
      "cell_type": "code",
      "metadata": {
        "id": "dIQSYjOHi3ti"
      },
      "source": [
        "\"\"\"\n",
        "Loading file and sorting over RouteId , Logdate\n",
        "\"\"\"\n",
        "\n",
        "df = pd.read_excel(\"./Your_File_Path\")\n",
        "df = df.sort_values(by = [\"RouteId\", \"LogDate\"])"
      ],
      "execution_count": null,
      "outputs": []
    },
    {
      "cell_type": "code",
      "metadata": {
        "id": "BsQbXDYmjNaj"
      },
      "source": [
        "\"\"\"\n",
        "A function that is for calculating the distance between two\n",
        "point of geographical coordinates; Latitude & Longitude .\n",
        "Calculated distance is multiplied by (111.139) for converting\n",
        "distance to meter.\n",
        "Then all calculated distances will be appended to a dataframe \n",
        "named result that contains \"ID\" & \"TotalDistance\".\n",
        "\"\"\"\n",
        "\n",
        "\n",
        "def Dist(DF, List):\n",
        "  global result\n",
        "  sum = 0\n",
        "  for i in range(1, len(List)):\n",
        "\n",
        "    dist = np.sqrt( (DF[\"Longitude\"][List[i]] - DF[\"Longitude\"][List[i-1]])**2 + (DF[\"Latitude\"][List[i]] - DF[\"Latitude\"][List[i-1]])**2 ) * (111.139)\n",
        "    sum += dist\n",
        "\n",
        "  result = result.append({'TourID': DF[\"RouteId\"][List[0]], \"TotalDistance\": sum}, ignore_index=True)\n",
        "\n"
      ],
      "execution_count": null,
      "outputs": []
    },
    {
      "cell_type": "code",
      "metadata": {
        "id": "_w_duPhvjPNp"
      },
      "source": [
        "\"\"\" \n",
        "we have a loop for droping duplicates of \"RouteId\" column to be able to\n",
        "to filter the dataframe over each one in order to calcaulate distance.\n",
        "Then the final file result file will be saved as name as Passed_Distance.csv .\n",
        "\"\"\"\n",
        "\n",
        "\n",
        "result = pd.DataFrame(columns = [\"TourID\", \"TotalDistance\"])\n",
        "k = 1\n",
        "for i in df.drop_duplicates(\"RouteId\")[\"RouteId\"]:\n",
        "  cond           = df[\"RouteId\"] == i\n",
        "  indices        = df.index[cond]\n",
        "  indices_list   = indices.tolist()\n",
        "\n",
        "  df1 = df[cond]\n",
        "  Dist(df1, indices_list)\n",
        "  print('Route', k, 'Done!')\n",
        "  k += 1\n",
        "\n",
        "result.to_csv('Passed_Distance.csv', index=False)\n"
      ],
      "execution_count": null,
      "outputs": []
    }
  ]
}